{
 "metadata": {
  "name": ""
 },
 "nbformat": 3,
 "nbformat_minor": 0,
 "worksheets": [
  {
   "cells": [
    {
     "cell_type": "markdown",
     "metadata": {},
     "source": [
      "# Nengo Example: Learning to square the input"
     ]
    },
    {
     "cell_type": "markdown",
     "metadata": {},
     "source": [
      "This demo shows you how to construct a network containing an esemble which learns how to decode the square of its value."
     ]
    },
    {
     "cell_type": "markdown",
     "metadata": {},
     "source": [
      "## Step 1: Create the Model"
     ]
    },
    {
     "cell_type": "markdown",
     "metadata": {},
     "source": [
      "This network consists of an ensemble which represents the input, ('A'), an ensemble which learns to represent the square, ('A_squared'), and an ensemble which represents the error between A_squared and the actual square, ('error')."
     ]
    },
    {
     "cell_type": "code",
     "collapsed": false,
     "input": [
      "import nengo\n",
      "model = nengo.Network()\n",
      "with model:\n",
      "    # Create the ensemble to represent the input, the input squared (learned), and the error\n",
      "    A = nengo.Ensemble(nengo.LIF(100), dimensions=1)\n",
      "    A_squared = nengo.Ensemble(nengo.LIF(100), dimensions=1)\n",
      "    error = nengo.Ensemble(nengo.LIF(100), dimensions=1)\n",
      "    \n",
      "    # Create the learned connection\n",
      "    nengo.Connection(A, A_squared, learning_rule=nengo.PES(error, learning_rate=1e-3))\n",
      "    \n",
      "    # Compute the error signal\n",
      "    nengo.Connection(A_squared, error, transform=-1)\n",
      "    nengo.Connection(A, error, function=lambda x: x**2)  # This would normally come from some external system"
     ],
     "language": "python",
     "metadata": {},
     "outputs": []
    },
    {
     "cell_type": "markdown",
     "metadata": {},
     "source": [
      "##Step 2: Provide Input to the Model"
     ]
    },
    {
     "cell_type": "markdown",
     "metadata": {},
     "source": [
      "A single input signal (a step function) will be used to drive the neural activity in ensemble A. An additonal node will inhibit the error signal after 15 seconds, to test the learning at the end."
     ]
    },
    {
     "cell_type": "code",
     "collapsed": false,
     "input": [
      "import numpy as np\n",
      "with model:\n",
      "    # Create an input node that steps between -1 and 1\n",
      "    input_node = nengo.Node(output=lambda t: int(6*t/5)/3.0 % 2 - 1)\n",
      "    \n",
      "    # Connect the input node to ensemble A\n",
      "    nengo.Connection(input_node, A)\n",
      "    \n",
      "    # Shut off learning by inhibiting the error population\n",
      "    stop_learning = nengo.Node(output=lambda t: t >= 15)\n",
      "    nengo.Connection(stop_learning, error.neurons, transform=-20*np.ones((error.n_neurons, 1)))"
     ],
     "language": "python",
     "metadata": {},
     "outputs": []
    },
    {
     "cell_type": "markdown",
     "metadata": {},
     "source": [
      "##Step 3: Probe the Output"
     ]
    },
    {
     "cell_type": "markdown",
     "metadata": {},
     "source": [
      "Let's collect output data from each ensemble and output."
     ]
    },
    {
     "cell_type": "code",
     "collapsed": false,
     "input": [
      "with model:\n",
      "    input_node_probe = nengo.Probe(input_node, 'output')\n",
      "    A_probe = nengo.Probe(A, 'decoded_output', filter=0.01)\n",
      "    A_squared_probe = nengo.Probe(A_squared, 'decoded_output', filter=0.01)\n",
      "    error_probe = nengo.Probe(error, 'decoded_output', filter=0.01)"
     ],
     "language": "python",
     "metadata": {},
     "outputs": []
    },
    {
     "cell_type": "markdown",
     "metadata": {},
     "source": [
      "## Step 4: Run the Model"
     ]
    },
    {
     "cell_type": "code",
     "collapsed": false,
     "input": [
      "# Create the simulator\n",
      "sim = nengo.Simulator(model)\n",
      "sim.run(20)"
     ],
     "language": "python",
     "metadata": {},
     "outputs": []
    },
    {
     "cell_type": "code",
     "collapsed": false,
     "input": [
      "import matplotlib.pyplot as plt\n",
      "\n",
      "# Plot the input signal and decoded ensemble values\n",
      "plt.plot(sim.trange(), sim.data[A_squared_probe], label='Decoded Ensemble $A^2$')\n",
      "plt.plot(sim.trange(), sim.data[A_squared_probe] - sim.data[input_node_probe]**2, label='Error')\n",
      "plt.plot(sim.trange(), sim.data[input_node_probe], label='Input', linewidth=2.0)\n",
      "plt.plot(sim.trange(), sim.data[input_node_probe]**2, label='Squared Input', linewidth=2.0)\n",
      "plt.legend(loc='best')\n",
      "plt.ylim(-1.2, 1.2)"
     ],
     "language": "python",
     "metadata": {},
     "outputs": []
    },
    {
     "cell_type": "markdown",
     "metadata": {},
     "source": [
      "We see that during the first three periods, the decoders quickly adjust to drive the error to zero. When learning is turned off for the fourth period, the error stays closer to zero, demonstrating that the learning has persisted in the connection."
     ]
    }
   ],
   "metadata": {}
  }
 ]
}